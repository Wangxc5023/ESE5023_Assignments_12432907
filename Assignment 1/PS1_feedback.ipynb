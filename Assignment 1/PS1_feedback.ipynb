{
 "cells": [
  {
   "cell_type": "markdown",
   "id": "c65ec513",
   "metadata": {},
   "source": [
    "### Score: `[107]`\n",
    "\n",
    "Q1. `[11]` Good job! \n",
    "\n",
    "Q2. `[11]` Good job! \n",
    "\n",
    "Q3. `[22]` Good job! \n",
    "\n",
    "Q4. `[27]`Good job! 表达式书写问题。\n",
    "\n",
    "Q5. `[35]` 一些小瑕疵。"
   ]
  },
  {
   "cell_type": "markdown",
   "id": "ffabeea7",
   "metadata": {},
   "source": [
    "# 1. Flowchart"
   ]
  },
  {
   "cell_type": "code",
   "execution_count": 6,
   "id": "93d0ebf4",
   "metadata": {},
   "outputs": [
    {
     "name": "stdout",
     "output_type": "stream",
     "text": [
      "a = 1.000000, b = 5.000000, c = 2.000000, result = -47\n",
      "a = 7.000000, b = 5.000000, c = 2.000000, result = -8\n",
      "a = 1.000000, b = 7.000000, c = 9.000000, result = 6\n",
      "a = 9.000000, b = 6.000000, c = 6.000000, result = -45\n",
      "a = 1.000000, b = 3.000000, c = 3.000000, result = -4\n",
      "------------------------------------------------------\n",
      "a = 10.000000, b = 5.000000, c = 1.000000, result = 5\n"
     ]
    }
   ],
   "source": [
    "import random\n",
    "random.seed(123) #Define random seed\n",
    "\n",
    "#Define the computation function of the purple parallelogram operator\n",
    "def pp(x, y, z):\n",
    "    return x + y - 10*z\n",
    "\n",
    "#Define the objective function in the problem\n",
    "def Print_values(a, b, c):\n",
    "    if a > b:\n",
    "        if b > c:\n",
    "            r = pp(a, b, c)\n",
    "        elif a > c:\n",
    "            r = pp(a, c, b)\n",
    "        else:\n",
    "            r = pp(c, a, b)\n",
    "    elif b > c:\n",
    "        if a > c:\n",
    "            r = pp(a, c, b)\n",
    "        else:\n",
    "            r = pp(c, a, b)\n",
    "    else:\n",
    "        r = pp(c, b, a)\n",
    "    print('a = %f, b = %f, c = %f, result = %r'%(a, b, c, r))\n",
    "\n",
    "for i in range(5):\n",
    "    a = random.randint(1, 10)\n",
    "    b = random.randint(1, 10)\n",
    "    c = random.randint(1, 10)\n",
    "    Print_values(a, b, c)\n",
    "    \n",
    "print('------------------------------------------------------')\n",
    "Print_values(10, 5, 1)"
   ]
  },
  {
   "cell_type": "markdown",
   "id": "e4b3055b",
   "metadata": {},
   "source": [
    "# 2. Continuous celing function"
   ]
  },
  {
   "cell_type": "code",
   "execution_count": 12,
   "id": "8dd674e1",
   "metadata": {},
   "outputs": [
    {
     "name": "stdout",
     "output_type": "stream",
     "text": [
      "[1, 2, 3, 4, 5, 6, 7, 8, 9, 10, 11, 12, 13, 14, 15, 16, 17, 18, 19, 20, 21, 22, 23, 24, 25, 26, 27, 28, 29]\n",
      "[1, 5, 7, 13, 15, 17, 21, 23, 25, 33, 35, 37, 41, 43, 45, 49, 51, 53, 59, 61, 63, 67, 69, 71, 75, 77, 79, 89, 91]\n"
     ]
    }
   ],
   "source": [
    "import math\n",
    "\n",
    "#Define the objective function in the problem\n",
    "def F(x):\n",
    "    if x == 1:\n",
    "        return 1\n",
    "    else:\n",
    "        f = F(math.ceil(x/3)) + 2*x\n",
    "        return f\n",
    "\n",
    "N = 30\n",
    "lt = [i for i in range(1, N)]\n",
    "ls = []\n",
    "for c in lt:\n",
    "    ls.append(F(c))\n",
    "\n",
    "print(lt)\n",
    "print(ls)"
   ]
  },
  {
   "cell_type": "markdown",
   "id": "1638d3d1",
   "metadata": {},
   "source": [
    "# 3. Dice rolling"
   ]
  },
  {
   "cell_type": "markdown",
   "id": "6f811fd9",
   "metadata": {},
   "source": [
    "## 3.1"
   ]
  },
  {
   "cell_type": "code",
   "execution_count": 14,
   "id": "5285a022",
   "metadata": {},
   "outputs": [
    {
     "name": "stdout",
     "output_type": "stream",
     "text": [
      "2930455\n"
     ]
    }
   ],
   "source": [
    "#Define the objective function in the problem\n",
    "def Find_number_of_ways(x):\n",
    "    num = 0\n",
    "    for a1 in range(1, min(x-8, 7)):\n",
    "        for a2 in range(a1+1, min(x-7, a1+7)):\n",
    "            for a3 in range(a2+1, min(x-6, a2+7)):\n",
    "                for a4 in range(a3+1, min(x-5, a3+7)):\n",
    "                    for a5 in range(a4+1, min(x-4, a4+7)):\n",
    "                        for a6 in range(a5+1, min(x-3, a5+7)):\n",
    "                            for a7 in range(a6+1, min(x-2, a6+7)):\n",
    "                                for a8 in range(a7+1, min(x-1, a7+7)):\n",
    "                                    for a9 in range(a8+1, min(x, a8+7)):\n",
    "                                        if x-a9 > 6:\n",
    "                                            continue\n",
    "                                        else:\n",
    "                                            num = num+1\n",
    "    return num\n",
    "\n",
    "print(Find_number_of_ways(30))"
   ]
  },
  {
   "cell_type": "markdown",
   "id": "8a2970ff",
   "metadata": {},
   "source": [
    "## 3.2"
   ]
  },
  {
   "cell_type": "code",
   "execution_count": 3,
   "id": "98ef7b20",
   "metadata": {},
   "outputs": [
    {
     "name": "stdout",
     "output_type": "stream",
     "text": [
      "[1, 10, 55, 220, 715, 2002, 4995, 11340, 23760, 46420, 85228, 147940, 243925, 383470, 576565, 831204, 1151370, 1535040, 1972630, 2446300, 2930455, 3393610, 3801535, 4121260, 4325310, 4395456, 4325310, 4121260, 3801535, 3393610, 2930455, 2446300, 1972630, 1535040, 1151370, 831204, 576565, 383470, 243925, 147940, 85228, 46420, 23760, 11340, 4995, 2002, 715, 220, 55, 10, 1]\n"
     ]
    }
   ],
   "source": [
    "Number_of_ways = []\n",
    "\n",
    "for i in range(10, 61):\n",
    "    Number_of_ways.append(Find_number_of_ways(i))\n",
    "print(Number_of_ways)"
   ]
  },
  {
   "cell_type": "code",
   "execution_count": 17,
   "id": "d1cf0dd8",
   "metadata": {},
   "outputs": [
    {
     "name": "stdout",
     "output_type": "stream",
     "text": [
      "35\n",
      "4395456\n"
     ]
    }
   ],
   "source": [
    "index = Number_of_ways.index(max(Number_of_ways))\n",
    "print(10 + index)\n",
    "print(Number_of_ways[index])"
   ]
  },
  {
   "cell_type": "markdown",
   "id": "cf8e8a6e",
   "metadata": {},
   "source": [
    "# 4. Dynamic programming"
   ]
  },
  {
   "cell_type": "markdown",
   "id": "bca8f917",
   "metadata": {},
   "source": [
    "## 4.1"
   ]
  },
  {
   "cell_type": "code",
   "execution_count": 4,
   "id": "5128d010",
   "metadata": {},
   "outputs": [
    {
     "name": "stdout",
     "output_type": "stream",
     "text": [
      "[2, 4, 0, 9, 5, 4, 10]\n"
     ]
    }
   ],
   "source": [
    "import random\n",
    "\n",
    "def Random_integer(N):\n",
    "    return [random.randint(0, 10) for i in range(N)]\n",
    "\n",
    "print(Random_integer(7))"
   ]
  },
  {
   "cell_type": "markdown",
   "id": "32448103",
   "metadata": {},
   "source": [
    "## 4.2"
   ]
  },
  {
   "cell_type": "code",
   "execution_count": 5,
   "id": "480d85be",
   "metadata": {},
   "outputs": [
    {
     "name": "stdout",
     "output_type": "stream",
     "text": [
      "459.78\n"
     ]
    }
   ],
   "source": [
    "#import itertools\n",
    "# NOTE: 这一段看起来没问题\n",
    "'''def Sum_averages(N):\n",
    "    array = Random_integer(N)\n",
    "    average_subsets = []\n",
    "    for i in range(len(array) + 1):\n",
    "        if i==0:\n",
    "            average_subsets.append(0)\n",
    "        else:\n",
    "            subsets = itertools.combinations(array, i)\n",
    "            average_subsets.extend([sum(j)/len(j) for j in subsets])\n",
    "    sum_averages = sum(average_subsets)\n",
    "    #print(average_subsets)\n",
    "    return sum_averages\n",
    "\n",
    "print(Sum_averages(100))'''\n",
    "\n",
    "def Sum_averages(N):\n",
    "    array = Random_integer(N)\n",
    "    array_sum = sum(array)\n",
    "    # BUG HERE: 表达式有误, ^ -> ** ,推理过程很nice\n",
    "    sum_averages = (2^N - 1)*array_sum / N\n",
    "    return sum_averages\n",
    "\n",
    "print(Sum_averages(100))"
   ]
  },
  {
   "cell_type": "markdown",
   "id": "16163fe0",
   "metadata": {},
   "source": [
    "## 4.3"
   ]
  },
  {
   "cell_type": "code",
   "execution_count": 7,
   "id": "ed855245",
   "metadata": {},
   "outputs": [
    {
     "name": "stdout",
     "output_type": "stream",
     "text": [
      "[2.0, 24.0, 0.0, 4.75, 24.0, 29.166666666666668, 18.857142857142858, 26.25, 56.666666666666664, 67.1, 37.09090909090909, 44.25, 75.38461538461539, 80.35714285714286, 64.0, 56.875, 81.52941176470588, 77.05555555555556, 98.52631578947368, 93.5, 93.23809523809524, 116.04545454545455, 93.91304347826087, 99.75, 102.96, 103.84615384615384, 104.0, 121.42857142857143, 138.6206896551724, 161.2, 128.25806451612902, 157.6875, 175.15151515151516, 217.2058823529412, 134.4, 147.58333333333334, 185.8918918918919, 210.39473684210526, 174.46153846153845, 191.475, 215.1219512195122, 217.04761904761904, 199.06976744186048, 219.9090909090909, 215.6888888888889, 204.34782608695653, 229.36170212765958, 210.9375, 239.79591836734693, 255.0, 231.52941176470588, 261.0192307692308, 232.30188679245282, 290.27777777777777, 300.6545454545454, 241.33928571428572, 273.719298245614, 283.8103448275862, 252.47457627118644, 299.25, 314.0655737704918, 366.8225806451613, 322.85714285714283, 286.890625, 300.55384615384617, 350.22727272727275, 335.2835820895522, 335.5147058823529, 282.0289855072464, 400.64285714285717, 336.16901408450707, 358.4166666666667, 403.45205479452056, 339.52702702702703, 359.04, 365.9605263157895, 426.46753246753246, 340.3076923076923, 365.56962025316454, 371.525, 406.962962962963, 410.9512195121951, 340.2409638554217, 419.4642857142857, 420.8941176470588, 435.0, 441.2413793103448, 425.96590909090907, 470.2247191011236, 446.9111111111111, 412.9230769230769, 460.4782608695652, 485.16129032258067, 463.8829787234043, 459.0315789473684, 435.9375, 457.6701030927835, 491.96938775510205, 473.2121212121212, 489.85]\n"
     ]
    }
   ],
   "source": [
    "Total_sum_averages = [Sum_averages(i+1) for i in range(100)]\n",
    "print(Total_sum_averages)"
   ]
  },
  {
   "cell_type": "code",
   "execution_count": 9,
   "id": "2f718d9f",
   "metadata": {},
   "outputs": [
    {
     "data": {
      "image/png": "[encoded data removed]",
      "text/plain": [
       "<Figure size 640x480 with 1 Axes>"
      ]
     },
     "metadata": {},
     "output_type": "display_data"
    }
   ],
   "source": [
    "import matplotlib.pyplot as plt\n",
    "# NOTE: 由于 4.2 表达式有误，这里图像并不符合预期，但代码没问题\n",
    "plt.rcParams['font.family'] = 'serif'  \n",
    "plt.rcParams['font.serif'] = ['Times New Roman']\n",
    "\n",
    "N = range(1, 101)\n",
    "plt.plot(N, Total_sum_averages, label='Total sum averages', color = 'red')\n",
    "\n",
    "plt.xlim(1, 100)\n",
    "plt.ylim(0, 600)\n",
    "plt.xlabel('N', fontsize=12)\n",
    "plt.ylabel('Total sum averages', fontsize=12)\n",
    "\n",
    "plt.legend()\n",
    "plt.show()"
   ]
  },
  {
   "cell_type": "markdown",
   "id": "3f75d3f8",
   "metadata": {},
   "source": [
    "# 5. Path counting"
   ]
  },
  {
   "cell_type": "markdown",
   "id": "e0111b8d",
   "metadata": {},
   "source": [
    "## 5.1"
   ]
  },
  {
   "cell_type": "code",
   "execution_count": 5,
   "id": "44230110",
   "metadata": {},
   "outputs": [
    {
     "name": "stdout",
     "output_type": "stream",
     "text": [
      "[[1 0 1 0 0 1 1 1]\n",
      " [1 1 0 1 0 1 1 1]\n",
      " [0 1 1 0 1 1 1 0]\n",
      " [1 0 0 1 1 1 0 0]\n",
      " [0 0 0 0 1 0 0 1]\n",
      " [1 0 1 0 1 0 1 1]\n",
      " [1 0 1 1 1 0 1 1]\n",
      " [1 1 0 1 0 0 0 0]\n",
      " [0 0 1 0 1 0 0 0]\n",
      " [0 1 0 0 0 1 1 1]]\n"
     ]
    }
   ],
   "source": [
    "import numpy as np\n",
    "\n",
    "def random_matrix(N, M):\n",
    "    Matrix = np.random.randint(0, 2, (N, M))\n",
    "    Matrix[0, 0] = 1\n",
    "    Matrix[-1, -1] = 1\n",
    "    return Matrix\n",
    "\n",
    "print(random_matrix(10, 8))"
   ]
  },
  {
   "cell_type": "markdown",
   "id": "c27a1538",
   "metadata": {},
   "source": [
    "## 5.2"
   ]
  },
  {
   "cell_type": "code",
   "execution_count": null,
   "id": "fd868e48",
   "metadata": {},
   "outputs": [],
   "source": [
    "'''def Count_path(N, M):\n",
    "    count_path = 0\n",
    "    Matrix = np.ones((N, M))\n",
    "    #Matrix = random_matrix(N, M)\n",
    "    print(Matrix)\n",
    "    dMatrix = np.zeros((N, M))\n",
    "    rMatrix = np.zeros((N, M))\n",
    "    for i in range(N-1):\n",
    "        check_row = Matrix[i, :] + Matrix[i+1, :]\n",
    "        downfoward_index = np.where(check_row==2)\n",
    "        dMatrix[i, downfoward_index] = 1\n",
    "    for j in range(M-1):\n",
    "        check_col = Matrix[:, j] + Matrix[:, j+1]\n",
    "        rightfoward_index = np.where(check_col==2)\n",
    "        rMatrix[rightfoward_index, j] = 1\n",
    "    print(dMatrix)\n",
    "    print(rMatrix)\n",
    "    branch_history = []\n",
    "    protection = 0\n",
    "    while dMatrix[0, 0]==1 or rMatrix[0, 0]==1:\n",
    "        protection = protection + 1\n",
    "        if protection>100:\n",
    "            break\n",
    "        row = 0\n",
    "        col = 0\n",
    "        path = []\n",
    "        path_try = []\n",
    "        branch = []\n",
    "        while 1:\n",
    "            if dMatrix[row, col] + rMatrix[row, col] == 2:\n",
    "                branch.append([row, col])\n",
    "                row = row + 1\n",
    "                path_try.append(1)\n",
    "            elif dMatrix[row, col] == 1:\n",
    "                row = row + 1\n",
    "                path_try.append(1)\n",
    "            elif rMatrix[row, col] == 1:\n",
    "                col = col + 1\n",
    "                path_try.append(2)\n",
    "            else:\n",
    "                if branch == []:\n",
    "                    dMatrix[0, 0] = 0\n",
    "                    rMatrix[0, 0] = 0\n",
    "                else:\n",
    "                    if branch_history:\n",
    "                        print(branch)\n",
    "                        print(branch_history)\n",
    "                        dMatrix[branch_history[-1][0], branch_history[-1][1]] = 1\n",
    "                        dMatrix[branch[-1][0], branch[-1][1]] = 0\n",
    "                        branch_history = branch\n",
    "                    else:\n",
    "                        branch_history = branch\n",
    "                        dMatrix[branch[-1][0], branch[-1][1]] = 0\n",
    "                break\n",
    "        #print(branch)\n",
    "        #print(branch_history)\n",
    "        if branch == []:\n",
    "            dMatrix[0, 0] = 0\n",
    "            rMatrix[0, 0] = 0\n",
    "            if row + col == N + M -2:\n",
    "                count_path = count_path + 1\n",
    "                path.append(path_try)\n",
    "        else:\n",
    "            if row + col == N + M -2:\n",
    "                count_path = count_path + 1\n",
    "                path.append(path_try)\n",
    "                #dMatrix[branch[-1][0], branch[-1][1]] = 0\n",
    "        print(path)\n",
    "    return count_path\n",
    "        \n",
    "print(Count_path(4, 3))'''\n",
    "\n",
    "import itertools\n",
    "# BUG: WRONG ANSWER, pdf中的说明很巧妙,可惜实现起来没写好\n",
    "def Count_path(N, M):\n",
    "    Matrix = random_matrix(N, M)\n",
    "    print(Matrix)\n",
    "    #Matrix = np.ones((N, M))\n",
    "    #print(Matrix)\n",
    "    count_path = 0\n",
    "    path_org = range(N + M - 2)\n",
    "    paths = list(itertools.combinations(path_org, M - 1))\n",
    "    #print(paths)\n",
    "    for path in paths:\n",
    "        path = sorted(path)\n",
    "        trace_Matrix = np.zeros((N, M))\n",
    "        row = 0\n",
    "        col = 0\n",
    "        hist = 0\n",
    "        for i in path:\n",
    "            # BUG: 事实上，当 path 中第一个元素不是0时，代码逻辑有误\n",
    "            # 第一步应该向下走\n",
    "            # 对于 matrix：\n",
    "            # [[1 1 0 0]\n",
    "            # [1 1 1 0]\n",
    "            # [0 0 1 0]\n",
    "            # [1 0 1 0]\n",
    "            # [0 0 1 1]] \n",
    "            # path：[1, 2, 4]\n",
    "            # 代码得到的 trace_Matrix 为\n",
    "            # array([[1., 1., 1., 0.],\n",
    "            #     [0., 0., 1., 1.],\n",
    "            #     [0., 0., 0., 1.],\n",
    "            #     [0., 0., 0., 1.],\n",
    "            #     [0., 0., 0., 1.]])\n",
    "            # 是有误的\n",
    "            #print(i)\n",
    "            if i:\n",
    "                trace_Matrix[row: row+i-hist, col] = 1\n",
    "                trace_Matrix[row+i-hist-1, col+1] = 1\n",
    "                row = row + i - hist - 1\n",
    "                col = col + 1\n",
    "                hist = i\n",
    "            else:\n",
    "                trace_Matrix[row, col+1] = 1\n",
    "                col = col + 1\n",
    "        trace_Matrix[row: , -1] = 1\n",
    "        sub = Matrix - trace_Matrix\n",
    "        #print(trace_Matrix)\n",
    "        if -1 in sub:\n",
    "            pass\n",
    "        else:\n",
    "            count_path = count_path + 1\n",
    "    return count_path\n",
    "\n",
    "print(Count_path(5, 4))"
   ]
  },
  {
   "cell_type": "markdown",
   "id": "73aaf2b4",
   "metadata": {},
   "source": [
    "## 5.3"
   ]
  },
  {
   "cell_type": "code",
   "execution_count": 15,
   "id": "ef88fbde",
   "metadata": {},
   "outputs": [
    {
     "name": "stdout",
     "output_type": "stream",
     "text": [
      "0.231\n"
     ]
    }
   ],
   "source": [
    "total = []\n",
    "for i in range(1000):\n",
    "    total.append(Count_path(10, 8))\n",
    "\n",
    "print(sum(total)/1000)"
   ]
  }
 ],
 "metadata": {
  "kernelspec": {
   "display_name": "ese5023",
   "language": "python",
   "name": "python3"
  },
  "language_info": {
   "codemirror_mode": {
    "name": "ipython",
    "version": 3
   },
   "file_extension": ".py",
   "mimetype": "text/x-python",
   "name": "python",
   "nbconvert_exporter": "python",
   "pygments_lexer": "ipython3",
   "version": "3.11.0"
  }
 },
 "nbformat": 4,
 "nbformat_minor": 5
}
